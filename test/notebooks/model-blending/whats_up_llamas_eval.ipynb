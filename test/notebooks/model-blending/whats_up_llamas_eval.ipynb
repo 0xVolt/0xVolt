{
  "nbformat": 4,
  "nbformat_minor": 0,
  "metadata": {
    "colab": {
      "provenance": [],
      "gpuType": "T4",
      "authorship_tag": "ABX9TyMdRD4oryso9xRdagg/SMxs",
      "include_colab_link": true
    },
    "kernelspec": {
      "name": "python3",
      "display_name": "Python 3"
    },
    "language_info": {
      "name": "python"
    },
    "accelerator": "GPU"
  },
  "cells": [
    {
      "cell_type": "markdown",
      "metadata": {
        "id": "view-in-github",
        "colab_type": "text"
      },
      "source": [
        "<a href=\"https://colab.research.google.com/github/0xVolt/0xVolt/blob/main/test/notebooks/model-blending/whats_up_llamas_eval.ipynb\" target=\"_parent\"><img src=\"https://colab.research.google.com/assets/colab-badge.svg\" alt=\"Open In Colab\"/></a>"
      ]
    },
    {
      "cell_type": "code",
      "execution_count": null,
      "metadata": {
        "colab": {
          "base_uri": "https://localhost:8080/"
        },
        "id": "braN1CCL2KYP",
        "outputId": "e860f1a6-d60e-4dd0-d74e-ccaaaee6fadc"
      },
      "outputs": [
        {
          "output_type": "stream",
          "name": "stdout",
          "text": [
            "\u001b[2K     \u001b[90m━━━━━━━━━━━━━━━━━━━━━━━━━━━━━━━━━━━━━━━━\u001b[0m \u001b[32m9.1/9.1 MB\u001b[0m \u001b[31m23.5 MB/s\u001b[0m eta \u001b[36m0:00:00\u001b[0m\n",
            "\u001b[2K     \u001b[90m━━━━━━━━━━━━━━━━━━━━━━━━━━━━━━━━━━━━━━━━\u001b[0m \u001b[32m302.6/302.6 kB\u001b[0m \u001b[31m11.1 MB/s\u001b[0m eta \u001b[36m0:00:00\u001b[0m\n",
            "\u001b[2K     \u001b[90m━━━━━━━━━━━━━━━━━━━━━━━━━━━━━━━━━━━━━━━━\u001b[0m \u001b[32m119.8/119.8 MB\u001b[0m \u001b[31m4.0 MB/s\u001b[0m eta \u001b[36m0:00:00\u001b[0m\n",
            "\u001b[2K     \u001b[90m━━━━━━━━━━━━━━━━━━━━━━━━━━━━━━━━━━━━━━━━\u001b[0m \u001b[32m401.2/401.2 kB\u001b[0m \u001b[31m20.0 MB/s\u001b[0m eta \u001b[36m0:00:00\u001b[0m\n",
            "\u001b[?25h"
          ]
        }
      ],
      "source": [
        "!pip install -qU transformers accelerate bitsandbytes"
      ]
    },
    {
      "cell_type": "code",
      "source": [
        "from transformers import AutoTokenizer, AutoModelForCausalLM\n",
        "from transformers import BitsAndBytesConfig\n",
        "import transformers\n",
        "import torch"
      ],
      "metadata": {
        "id": "fzBwlNmG2bjR"
      },
      "execution_count": null,
      "outputs": []
    },
    {
      "cell_type": "code",
      "source": [
        "modelName = \"0xVolt/whats-up-llamas\"\n",
        "\n",
        "# Define the BitsAndBytesConfig for 8-bit quantization\n",
        "bnb_quantization_config = BitsAndBytesConfig(load_in_8bit=True, llm_int8_threshold=6.0)\n",
        "\n",
        "tokenizer = AutoModelForCausalLM.from_pretrained(modelName)\n",
        "model = AutoModelForCausalLM.from_pretrained(modelName, quantization_config=bnb_quantization_config, device_map=\"auto\")"
      ],
      "metadata": {
        "id": "Ui4HX8iT2cr4"
      },
      "execution_count": null,
      "outputs": []
    },
    {
      "cell_type": "code",
      "source": [
        "model.get_memory_footprint() # Model size in bytes = ~ 33GB"
      ],
      "metadata": {
        "id": "z15k3Onc28bT"
      },
      "execution_count": null,
      "outputs": []
    },
    {
      "cell_type": "code",
      "source": [
        "# Define a random function to generate documentation\n",
        "def generate_documentation(input_text):\n",
        "    inputs = tokenizer.encode(input_text, return_tensors=\"pt\")\n",
        "    outputs = model.generate(inputs)\n",
        "    return tokenizer.decode(outputs[0])"
      ],
      "metadata": {
        "id": "fztXhf6FCS4B"
      },
      "execution_count": null,
      "outputs": []
    },
    {
      "cell_type": "code",
      "source": [
        "# Test the model with a random input\n",
        "input_text = \"Generate documentation for a new AI model\"\n",
        "output = generate_documentation(input_text)\n",
        "print(output)"
      ],
      "metadata": {
        "id": "Np5T53vYGulR"
      },
      "execution_count": null,
      "outputs": []
    },
    {
      "cell_type": "code",
      "source": [],
      "metadata": {
        "id": "grbBFj5tGw12"
      },
      "execution_count": null,
      "outputs": []
    }
  ]
}